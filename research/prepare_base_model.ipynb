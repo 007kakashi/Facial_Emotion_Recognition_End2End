{
 "cells": [
  {
   "cell_type": "code",
   "execution_count": 11,
   "metadata": {},
   "outputs": [
    {
     "data": {
      "text/plain": [
       "'C:\\\\ML Projects\\\\Facial_Emotion_Recognition_End2End'"
      ]
     },
     "execution_count": 11,
     "metadata": {},
     "output_type": "execute_result"
    }
   ],
   "source": [
    "%pwd"
   ]
  },
  {
   "cell_type": "code",
   "execution_count": 12,
   "metadata": {},
   "outputs": [],
   "source": [
    "import os\n",
    "from pathlib import Path\n",
    "from dataclasses import dataclass  "
   ]
  },
  {
   "cell_type": "code",
   "execution_count": 13,
   "metadata": {},
   "outputs": [],
   "source": [
    "os.chdir('C:\\ML Projects\\Facial_Emotion_Recognition_End2End')"
   ]
  },
  {
   "cell_type": "code",
   "execution_count": 14,
   "metadata": {},
   "outputs": [
    {
     "data": {
      "text/plain": [
       "'C:\\\\ML Projects\\\\Facial_Emotion_Recognition_End2End'"
      ]
     },
     "execution_count": 14,
     "metadata": {},
     "output_type": "execute_result"
    }
   ],
   "source": [
    "%pwd"
   ]
  },
  {
   "cell_type": "code",
   "execution_count": 15,
   "metadata": {},
   "outputs": [],
   "source": [
    "@dataclass(frozen=True)\n",
    "class PrepareBaseModel_Arguments:\n",
    "    root_dir: Path\n",
    "    base_model_path: Path\n",
    "    updated_base_model_path: Path\n",
    "    params_image_size: list\n",
    "    params_learning_rate: float\n",
    "    params_classes: int\n",
    "    params_weights: str\n",
    "    params_include_top: bool\n"
   ]
  },
  {
   "cell_type": "code",
   "execution_count": 16,
   "metadata": {},
   "outputs": [],
   "source": [
    "from src.Facial_Emotion_Recognition.constant import *\n",
    "from src.Facial_Emotion_Recognition.utils.common import read_yaml,create_directories\n",
    "from src.Facial_Emotion_Recognition.logger import logging"
   ]
  },
  {
   "cell_type": "code",
   "execution_count": null,
   "metadata": {},
   "outputs": [],
   "source": []
  },
  {
   "cell_type": "code",
   "execution_count": 17,
   "metadata": {},
   "outputs": [],
   "source": [
    "class ConfigurationManager:           #it will prepare or extract the arguments \n",
    "\n",
    "    def __init__(                      \n",
    "            self,\n",
    "            config_filepath= CONFIG_FILE_PATH,\n",
    "            params_filepath= PARAMS_FILE_PATH\n",
    "            ):\n",
    "\n",
    "            \n",
    "        self.config=read_yaml(config_filepath)\n",
    "        self.params=read_yaml(params_filepath)\n",
    "\n",
    "        create_directories([self.config.artifacts_root])\n",
    "\n",
    "    def get_prepare_base_model_config(self) -> PrepareBaseModel_Arguments:\n",
    "        \n",
    "        config=self.config.prepare_base_model\n",
    "\n",
    "        create_directories([config.root_dir])\n",
    "\n",
    "        prepare_base_model_config= PrepareBaseModel_Arguments(\n",
    "\n",
    "            base_model_path=config.base_model_path,\n",
    "            root_dir=config.root_dir,\n",
    "            updated_base_model_path=config.updated_base_model_path,\n",
    "            params_classes=self.params.CLASSES,\n",
    "            params_image_size=self.params.IMAGE_SIZE,\n",
    "            params_include_top=self.params.INCLUDE_TOP,\n",
    "            params_weights=self.params.WEIGHTS,\n",
    "            params_learning_rate=self.params.LEARNING_RATE,\n",
    "             \n",
    "        )      \n",
    "\n",
    "        logging.info('config of base model has prepared')\n",
    "\n",
    "        return prepare_base_model_config    \n",
    "                 "
   ]
  },
  {
   "cell_type": "code",
   "execution_count": 18,
   "metadata": {},
   "outputs": [],
   "source": [
    "import os\n",
    "from zipfile import ZipFile\n",
    "from urllib.request import Request\n",
    "import tensorflow as tf"
   ]
  },
  {
   "cell_type": "code",
   "execution_count": 19,
   "metadata": {},
   "outputs": [],
   "source": [
    "class PrepareBaseModel:\n",
    "\n",
    "    def __init__(self, config: PrepareBaseModel_Arguments):\n",
    "        self.config=config\n",
    "\n",
    "    @staticmethod\n",
    "    def save_model( path: Path, model: tf.keras.Model):\n",
    "        model.save(path)\n",
    "\n",
    "    def get_base_model(self):\n",
    "\n",
    "        self.model=tf.keras.applications.vgg16.VGG16(\n",
    "            weights=self.config.params_weights,\n",
    "            input_shape=self.config.params_image_size,\n",
    "            include_top=self.config.params_include_top\n",
    "        )\n",
    "\n",
    "        self.save_model(path=self.config.base_model_path, model=self.model)\n",
    "\n",
    "        logging.info('base model has been saved')\n",
    "\n",
    "    @staticmethod\n",
    "    def prepare_full_model(model, classes, freeze_all, freeze_till, learning_rate):\n",
    "        \n",
    "        if freeze_all :\n",
    "            for layer in model.layers:\n",
    "                model.trainable = False\n",
    "        \n",
    "        elif (freeze_till is not None) and (freeze_till > 0):\n",
    "            for layer in model.layers[:-freeze_till]:\n",
    "                model.trainable = False\n",
    "\n",
    "        flatten_in=tf.keras.layers.Flatten()(model.output)\n",
    "        prediction=tf.keras.layers.Dense(\n",
    "            activation='softmax',\n",
    "            units=classes\n",
    "        )(flatten_in)\n",
    "\n",
    "        full_model=tf.keras.models.Model(\n",
    "\n",
    "            inputs=model.input,\n",
    "            outputs=prediction\n",
    "            \n",
    "        )\n",
    "\n",
    "        full_model.compile(\n",
    "            optimizer=tf.keras.optimizers.Adam(learning_rate=learning_rate),\n",
    "            loss='categorical_crossentrophy',\n",
    "            metrics=['accuracy']\n",
    "        )\n",
    "\n",
    "        full_model.summary()\n",
    "\n",
    "        logging.info\n",
    "\n",
    "        return full_model\n",
    "    \n",
    "\n",
    "    # @staticmethod\n",
    "    def updated_base_model(self):\n",
    "\n",
    "        self.full_model=self.prepare_full_model(\n",
    "\n",
    "            model=self.model,\n",
    "            classes=self.config.params_classes,\n",
    "            freeze_all=True,\n",
    "            freeze_till=None,\n",
    "            learning_rate=self.config.params_learning_rate\n",
    "        )\n",
    "\n",
    "\n"
   ]
  },
  {
   "cell_type": "code",
   "execution_count": 20,
   "metadata": {},
   "outputs": [
    {
     "name": "stdout",
     "output_type": "stream",
     "text": [
      "[2023-10-14 19:04:29,125: INFO: common: yaml file : config\\config.yaml loaded successfully]\n",
      "[2023-10-14 19:04:29,135: INFO: common: yaml file : params.yaml loaded successfully]\n",
      "[2023-10-14 19:04:29,140: INFO: common: created directories at :artifacts]\n",
      "[2023-10-14 19:04:29,145: INFO: common: created directories at :artifacts/prepare_base_model]\n",
      "[2023-10-14 19:04:29,145: INFO: 138849538: config of base model has prepared]\n",
      "[2023-10-14 19:04:31,055: WARNING: saving_utils: Compiled the loaded model, but the compiled metrics have yet to be built. `model.compile_metrics` will be empty until you train or evaluate the model.]\n"
     ]
    },
    {
     "name": "stderr",
     "output_type": "stream",
     "text": [
      "c:\\Users\\ACER\\anaconda3\\envs\\venv\\Lib\\site-packages\\keras\\src\\engine\\training.py:3079: UserWarning: You are saving your model as an HDF5 file via `model.save()`. This file format is considered legacy. We recommend using instead the native Keras format, e.g. `model.save('my_model.keras')`.\n",
      "  saving_api.save_model(\n"
     ]
    },
    {
     "name": "stdout",
     "output_type": "stream",
     "text": [
      "[2023-10-14 19:04:31,353: INFO: 4162541766: base model has been saved]\n",
      "Model: \"model_1\"\n",
      "_________________________________________________________________\n",
      " Layer (type)                Output Shape              Param #   \n",
      "=================================================================\n",
      " input_2 (InputLayer)        [(None, 224, 224, 3)]     0         \n",
      "                                                                 \n",
      " block1_conv1 (Conv2D)       (None, 224, 224, 64)      1792      \n",
      "                                                                 \n",
      " block1_conv2 (Conv2D)       (None, 224, 224, 64)      36928     \n",
      "                                                                 \n",
      " block1_pool (MaxPooling2D)  (None, 112, 112, 64)      0         \n",
      "                                                                 \n",
      " block2_conv1 (Conv2D)       (None, 112, 112, 128)     73856     \n",
      "                                                                 \n",
      " block2_conv2 (Conv2D)       (None, 112, 112, 128)     147584    \n",
      "                                                                 \n",
      " block2_pool (MaxPooling2D)  (None, 56, 56, 128)       0         \n",
      "                                                                 \n",
      " block3_conv1 (Conv2D)       (None, 56, 56, 256)       295168    \n",
      "                                                                 \n",
      " block3_conv2 (Conv2D)       (None, 56, 56, 256)       590080    \n",
      "                                                                 \n",
      " block3_conv3 (Conv2D)       (None, 56, 56, 256)       590080    \n",
      "                                                                 \n",
      " block3_pool (MaxPooling2D)  (None, 28, 28, 256)       0         \n",
      "                                                                 \n",
      " block4_conv1 (Conv2D)       (None, 28, 28, 512)       1180160   \n",
      "                                                                 \n",
      " block4_conv2 (Conv2D)       (None, 28, 28, 512)       2359808   \n",
      "                                                                 \n",
      " block4_conv3 (Conv2D)       (None, 28, 28, 512)       2359808   \n",
      "                                                                 \n",
      " block4_pool (MaxPooling2D)  (None, 14, 14, 512)       0         \n",
      "                                                                 \n",
      " block5_conv1 (Conv2D)       (None, 14, 14, 512)       2359808   \n",
      "                                                                 \n",
      " block5_conv2 (Conv2D)       (None, 14, 14, 512)       2359808   \n",
      "                                                                 \n",
      " block5_conv3 (Conv2D)       (None, 14, 14, 512)       2359808   \n",
      "                                                                 \n",
      " block5_pool (MaxPooling2D)  (None, 7, 7, 512)         0         \n",
      "                                                                 \n",
      " flatten_1 (Flatten)         (None, 25088)             0         \n",
      "                                                                 \n",
      " dense_1 (Dense)             (None, 7)                 175623    \n",
      "                                                                 \n",
      "=================================================================\n",
      "Total params: 14890311 (56.80 MB)\n",
      "Trainable params: 175623 (686.03 KB)\n",
      "Non-trainable params: 14714688 (56.13 MB)\n",
      "_________________________________________________________________\n"
     ]
    }
   ],
   "source": [
    "try:\n",
    "    config=ConfigurationManager()\n",
    "    model_prepare=config.get_prepare_base_model_config()\n",
    "    model=PrepareBaseModel(config=model_prepare)\n",
    "    model.get_base_model()\n",
    "    model.updated_base_model()\n",
    "\n",
    "except Exception as e:\n",
    "    raise e"
   ]
  },
  {
   "cell_type": "code",
   "execution_count": null,
   "metadata": {},
   "outputs": [],
   "source": []
  }
 ],
 "metadata": {
  "kernelspec": {
   "display_name": "venv",
   "language": "python",
   "name": "python3"
  },
  "language_info": {
   "codemirror_mode": {
    "name": "ipython",
    "version": 3
   },
   "file_extension": ".py",
   "mimetype": "text/x-python",
   "name": "python",
   "nbconvert_exporter": "python",
   "pygments_lexer": "ipython3",
   "version": "3.11.5"
  }
 },
 "nbformat": 4,
 "nbformat_minor": 2
}
