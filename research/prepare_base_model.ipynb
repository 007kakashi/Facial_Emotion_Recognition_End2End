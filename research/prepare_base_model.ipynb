{
 "cells": [
  {
   "cell_type": "code",
   "execution_count": null,
   "metadata": {},
   "outputs": [
    {
     "data": {
      "text/plain": [
       "'C:\\\\ML Projects\\\\Facial_Emotion_Recognition_End2End'"
      ]
     },
     "execution_count": 92,
     "metadata": {},
     "output_type": "execute_result"
    }
   ],
   "source": [
    "%pwd"
   ]
  },
  {
   "cell_type": "code",
   "execution_count": null,
   "metadata": {},
   "outputs": [],
   "source": [
    "import os\n",
    "from pathlib import Path\n",
    "from dataclasses import dataclass  "
   ]
  },
  {
   "cell_type": "code",
   "execution_count": null,
   "metadata": {},
   "outputs": [],
   "source": [
    "os.chdir('C:\\ML Projects\\Facial_Emotion_Recognition_End2End')"
   ]
  },
  {
   "cell_type": "code",
   "execution_count": null,
   "metadata": {},
   "outputs": [
    {
     "data": {
      "text/plain": [
       "'C:\\\\ML Projects\\\\Facial_Emotion_Recognition_End2End'"
      ]
     },
     "execution_count": 95,
     "metadata": {},
     "output_type": "execute_result"
    }
   ],
   "source": [
    "%pwd"
   ]
  },
  {
   "cell_type": "code",
   "execution_count": null,
   "metadata": {},
   "outputs": [],
   "source": [
    "@dataclass(frozen=True)\n",
    "class PrepareBaseModel_Arguments:\n",
    "    root_dir: Path\n",
    "    base_model_path: Path\n",
    "    updated_base_model_path: Path\n",
    "    params_image_size: list\n",
    "    params_learning_rate: float\n",
    "    params_classes: int\n",
    "    params_weights: str\n",
    "    params_include_top: bool\n"
   ]
  },
  {
   "cell_type": "code",
   "execution_count": null,
   "metadata": {},
   "outputs": [],
   "source": [
    "from src.Facial_Emotion_Recognition.constant import *\n",
    "from src.Facial_Emotion_Recognition.utils.common import read_yaml,create_directories"
   ]
  },
  {
   "cell_type": "code",
   "execution_count": null,
   "metadata": {},
   "outputs": [],
   "source": []
  },
  {
   "cell_type": "code",
   "execution_count": null,
   "metadata": {},
   "outputs": [],
   "source": [
    "class ConfigurationManager:           #it will prepare or extract the arguments \n",
    "\n",
    "    def __init__(                      \n",
    "            self,\n",
    "            config_filepath= CONFIG_FILE_PATH,\n",
    "            params_filepath= PARAMS_FILE_PATH\n",
    "            ):\n",
    "\n",
    "            \n",
    "            self.config=read_yaml(config_filepath)\n",
    "            self.params=read_yaml(params_filepath)\n",
    "            create_directories([self.config.artifacts_root])\n",
    "\n",
    "    def get_prepare_base_model_config(self) -> PrepareBaseModel_Arguments:\n",
    "        \n",
    "        config=self.config.prepare_base_model\n",
    "\n",
    "        create_directories(config.root_dir)\n",
    "\n",
    "        prepare_base_model_config= PrepareBaseModel_Arguments(\n",
    "             base_model_path=Path(config.base_model_path),\n",
    "             root_dir=Path(config.root_dir),\n",
    "             updated_base_model_path=Path(config.updated_base_model_path),\n",
    "             params_classes=self.params.CLASSES,\n",
    "             params_image_size=self.params.IAMAGE_SIZE,\n",
    "             params_include_top=self.params.INCLUDE_TOP,\n",
    "             params_weights=self.params.WEIGHTS,\n",
    "             params_learning_rate=self.params.LEARNING_RATE\n",
    "                                                    )      \n",
    "\n",
    "        return prepare_base_model_config    \n",
    "                 "
   ]
  },
  {
   "cell_type": "code",
   "execution_count": null,
   "metadata": {},
   "outputs": [],
   "source": [
    "import os\n",
    "from zipfile import ZipFile\n",
    "from urllib.request import Request\n",
    "import tensorflow as tf"
   ]
  },
  {
   "cell_type": "code",
   "execution_count": null,
   "metadata": {},
   "outputs": [],
   "source": [
    "class PrepareBaseModel:\n",
    "\n",
    "    def __init__(self, config: PrepareBaseModel_Arguments):\n",
    "        self.config=config\n",
    "\n",
    "    def save_model( path: Path, model: tf.keras.Model):\n",
    "        model.save(path)\n",
    "\n",
    "    def get_base_model(self):\n",
    "\n",
    "        self.model=tf.keras.applications.vgg16.VGG16(\n",
    "            weights=self.config.params_weights,\n",
    "            input_shape=self.config.params_image_size,\n",
    "            include_top=self.config.params_include_top\n",
    "        )\n",
    "\n",
    "        self.save_model(path=self.config.base_model_path, model=self.model)\n",
    "\n",
    "    @staticmethod\n",
    "    def prepare_full_model(model, classes, freeze_all, freeze_till, learning_rate):\n",
    "        \n",
    "        if freeze_all :\n",
    "            for layer in model.layers:\n",
    "                model.trainable = False\n",
    "        \n",
    "        elif (freeze_till is not None) and (freeze_till > 0):\n",
    "            for layer in model.layers[:-freeze_till]:\n",
    "                model.trainable = False\n",
    "\n",
    "        flatten_in=tf.keras.layers.Flatten()(model.output)\n",
    "        prediction=tf.keras.layers.Dense(\n",
    "            activation='softmax',\n",
    "            units=classes\n",
    "        )(flatten_in)\n",
    "\n",
    "        full_model=tf.keras.models.Model(\n",
    "\n",
    "            inputs=model.input,\n",
    "            output=prediction\n",
    "            \n",
    "        )\n",
    "\n",
    "        full_model.compile(\n",
    "            optimizer=tf.keras.optimizers.Adam(learning_rate=learning_rate),\n",
    "            loss='categorical_crossentrophy',\n",
    "            metrics=['accuracy']\n",
    "        )\n",
    "\n",
    "        full_model.summary()\n",
    "\n",
    "        return full_model\n",
    "    \n",
    "\n",
    "    @staticmethod\n",
    "    def updated_base_model(self):\n",
    "\n",
    "        self.full_model=self.prepare_full_model(\n",
    "\n",
    "            model=self.model,\n",
    "            classes=self.config.params_classes,\n",
    "            freeze_all=True,\n",
    "            freeze_till=None,\n",
    "            learning_rate=self.config.learning_rate\n",
    "        )\n",
    "\n",
    "\n"
   ]
  },
  {
   "cell_type": "code",
   "execution_count": null,
   "metadata": {},
   "outputs": [
    {
     "name": "stdout",
     "output_type": "stream",
     "text": [
      "[2023-10-14 15:35:17,474: INFO: common: yaml file : config\\config.yaml loaded successfully]\n",
      "[2023-10-14 15:35:17,484: INFO: common: yaml file : params.yaml loaded successfully]\n",
      "[2023-10-14 15:35:17,488: INFO: common: created directories at :artifacts]\n",
      "[2023-10-14 15:35:17,492: INFO: common: created directories at :a]\n",
      "[2023-10-14 15:35:17,497: INFO: common: created directories at :r]\n",
      "[2023-10-14 15:35:17,501: INFO: common: created directories at :t]\n",
      "[2023-10-14 15:35:17,505: INFO: common: created directories at :i]\n",
      "[2023-10-14 15:35:17,510: INFO: common: created directories at :f]\n",
      "[2023-10-14 15:35:17,514: INFO: common: created directories at :a]\n",
      "[2023-10-14 15:35:17,517: INFO: common: created directories at :c]\n",
      "[2023-10-14 15:35:17,521: INFO: common: created directories at :t]\n",
      "[2023-10-14 15:35:17,525: INFO: common: created directories at :s]\n",
      "[2023-10-14 15:35:17,529: INFO: common: created directories at :/]\n",
      "[2023-10-14 15:35:17,532: INFO: common: created directories at :p]\n",
      "[2023-10-14 15:35:17,537: INFO: common: created directories at :r]\n",
      "[2023-10-14 15:35:17,541: INFO: common: created directories at :e]\n",
      "[2023-10-14 15:35:17,545: INFO: common: created directories at :p]\n",
      "[2023-10-14 15:35:17,551: INFO: common: created directories at :a]\n",
      "[2023-10-14 15:35:17,556: INFO: common: created directories at :r]\n",
      "[2023-10-14 15:35:17,560: INFO: common: created directories at :e]\n",
      "[2023-10-14 15:35:17,564: INFO: common: created directories at :_]\n",
      "[2023-10-14 15:35:17,567: INFO: common: created directories at :b]\n",
      "[2023-10-14 15:35:17,572: INFO: common: created directories at :a]\n",
      "[2023-10-14 15:35:17,576: INFO: common: created directories at :s]\n",
      "[2023-10-14 15:35:17,579: INFO: common: created directories at :e]\n",
      "[2023-10-14 15:35:17,583: INFO: common: created directories at :_]\n",
      "[2023-10-14 15:35:17,586: INFO: common: created directories at :m]\n",
      "[2023-10-14 15:35:17,590: INFO: common: created directories at :o]\n",
      "[2023-10-14 15:35:17,595: INFO: common: created directories at :d]\n",
      "[2023-10-14 15:35:17,599: INFO: common: created directories at :e]\n",
      "[2023-10-14 15:35:17,602: INFO: common: created directories at :l]\n"
     ]
    },
    {
     "ename": "BoxKeyError",
     "evalue": "\"'ConfigBox' object has no attribute 'base_model_path'\"",
     "output_type": "error",
     "traceback": [
      "\u001b[1;31m---------------------------------------------------------------------------\u001b[0m",
      "\u001b[1;31mKeyError\u001b[0m                                  Traceback (most recent call last)",
      "File \u001b[1;32mc:\\Users\\ACER\\anaconda3\\envs\\venv\\Lib\\site-packages\\box\\box.py:503\u001b[0m, in \u001b[0;36mBox.__getitem__\u001b[1;34m(self, item, _ignore_default)\u001b[0m\n\u001b[0;32m    502\u001b[0m \u001b[39mtry\u001b[39;00m:\n\u001b[1;32m--> 503\u001b[0m     \u001b[39mreturn\u001b[39;00m \u001b[39msuper\u001b[39m()\u001b[39m.\u001b[39m\u001b[39m__getitem__\u001b[39m(item)\n\u001b[0;32m    504\u001b[0m \u001b[39mexcept\u001b[39;00m \u001b[39mKeyError\u001b[39;00m \u001b[39mas\u001b[39;00m err:\n",
      "\u001b[1;31mKeyError\u001b[0m: 'base_model_path'",
      "\nThe above exception was the direct cause of the following exception:\n",
      "\u001b[1;31mBoxKeyError\u001b[0m                               Traceback (most recent call last)",
      "File \u001b[1;32mc:\\Users\\ACER\\anaconda3\\envs\\venv\\Lib\\site-packages\\box\\box.py:536\u001b[0m, in \u001b[0;36mBox.__getattr__\u001b[1;34m(self, item)\u001b[0m\n\u001b[0;32m    535\u001b[0m \u001b[39mtry\u001b[39;00m:\n\u001b[1;32m--> 536\u001b[0m     value \u001b[39m=\u001b[39m \u001b[39mself\u001b[39m\u001b[39m.\u001b[39m\u001b[39m__getitem__\u001b[39m(item, _ignore_default\u001b[39m=\u001b[39m\u001b[39mTrue\u001b[39;00m)\n\u001b[0;32m    537\u001b[0m \u001b[39mexcept\u001b[39;00m \u001b[39mKeyError\u001b[39;00m:\n",
      "File \u001b[1;32mc:\\Users\\ACER\\anaconda3\\envs\\venv\\Lib\\site-packages\\box\\box.py:524\u001b[0m, in \u001b[0;36mBox.__getitem__\u001b[1;34m(self, item, _ignore_default)\u001b[0m\n\u001b[0;32m    523\u001b[0m         \u001b[39mreturn\u001b[39;00m \u001b[39mself\u001b[39m\u001b[39m.\u001b[39m__get_default(item)\n\u001b[1;32m--> 524\u001b[0m     \u001b[39mraise\u001b[39;00m BoxKeyError(\u001b[39mstr\u001b[39m(err)) \u001b[39mfrom\u001b[39;00m \u001b[39m_exception_cause\u001b[39;00m(err)\n\u001b[0;32m    525\u001b[0m \u001b[39mexcept\u001b[39;00m \u001b[39mTypeError\u001b[39;00m \u001b[39mas\u001b[39;00m err:\n",
      "\u001b[1;31mBoxKeyError\u001b[0m: \"'base_model_path'\"",
      "\nDuring handling of the above exception, another exception occurred:\n",
      "\u001b[1;31mAttributeError\u001b[0m                            Traceback (most recent call last)",
      "File \u001b[1;32mc:\\Users\\ACER\\anaconda3\\envs\\venv\\Lib\\site-packages\\box\\box.py:538\u001b[0m, in \u001b[0;36mBox.__getattr__\u001b[1;34m(self, item)\u001b[0m\n\u001b[0;32m    537\u001b[0m     \u001b[39mexcept\u001b[39;00m \u001b[39mKeyError\u001b[39;00m:\n\u001b[1;32m--> 538\u001b[0m         value \u001b[39m=\u001b[39m \u001b[39mobject\u001b[39m\u001b[39m.\u001b[39m\u001b[39m__getattribute__\u001b[39m(\u001b[39mself\u001b[39m, item)\n\u001b[0;32m    539\u001b[0m \u001b[39mexcept\u001b[39;00m \u001b[39mAttributeError\u001b[39;00m \u001b[39mas\u001b[39;00m err:\n",
      "\u001b[1;31mAttributeError\u001b[0m: 'ConfigBox' object has no attribute 'base_model_path'",
      "\nThe above exception was the direct cause of the following exception:\n",
      "\u001b[1;31mBoxKeyError\u001b[0m                               Traceback (most recent call last)",
      "File \u001b[1;32mc:\\Users\\ACER\\anaconda3\\envs\\venv\\Lib\\site-packages\\box\\config_box.py:28\u001b[0m, in \u001b[0;36mConfigBox.__getattr__\u001b[1;34m(self, item)\u001b[0m\n\u001b[0;32m     27\u001b[0m \u001b[39mtry\u001b[39;00m:\n\u001b[1;32m---> 28\u001b[0m     \u001b[39mreturn\u001b[39;00m \u001b[39msuper\u001b[39m()\u001b[39m.\u001b[39m\u001b[39m__getattr__\u001b[39m(item)\n\u001b[0;32m     29\u001b[0m \u001b[39mexcept\u001b[39;00m \u001b[39mAttributeError\u001b[39;00m:\n",
      "File \u001b[1;32mc:\\Users\\ACER\\anaconda3\\envs\\venv\\Lib\\site-packages\\box\\box.py:552\u001b[0m, in \u001b[0;36mBox.__getattr__\u001b[1;34m(self, item)\u001b[0m\n\u001b[0;32m    551\u001b[0m         \u001b[39mreturn\u001b[39;00m \u001b[39mself\u001b[39m\u001b[39m.\u001b[39m__get_default(item, attr\u001b[39m=\u001b[39m\u001b[39mTrue\u001b[39;00m)\n\u001b[1;32m--> 552\u001b[0m     \u001b[39mraise\u001b[39;00m BoxKeyError(\u001b[39mstr\u001b[39m(err)) \u001b[39mfrom\u001b[39;00m \u001b[39m_exception_cause\u001b[39;00m(err)\n\u001b[0;32m    553\u001b[0m \u001b[39mreturn\u001b[39;00m value\n",
      "\u001b[1;31mBoxKeyError\u001b[0m: \"'ConfigBox' object has no attribute 'base_model_path'\"",
      "\nDuring handling of the above exception, another exception occurred:\n",
      "\u001b[1;31mKeyError\u001b[0m                                  Traceback (most recent call last)",
      "File \u001b[1;32mc:\\Users\\ACER\\anaconda3\\envs\\venv\\Lib\\site-packages\\box\\box.py:503\u001b[0m, in \u001b[0;36mBox.__getitem__\u001b[1;34m(self, item, _ignore_default)\u001b[0m\n\u001b[0;32m    502\u001b[0m \u001b[39mtry\u001b[39;00m:\n\u001b[1;32m--> 503\u001b[0m     \u001b[39mreturn\u001b[39;00m \u001b[39msuper\u001b[39m()\u001b[39m.\u001b[39m\u001b[39m__getitem__\u001b[39m(item)\n\u001b[0;32m    504\u001b[0m \u001b[39mexcept\u001b[39;00m \u001b[39mKeyError\u001b[39;00m \u001b[39mas\u001b[39;00m err:\n",
      "\u001b[1;31mKeyError\u001b[0m: 'base_model_path'",
      "\nThe above exception was the direct cause of the following exception:\n",
      "\u001b[1;31mBoxKeyError\u001b[0m                               Traceback (most recent call last)",
      "File \u001b[1;32mc:\\Users\\ACER\\anaconda3\\envs\\venv\\Lib\\site-packages\\box\\box.py:536\u001b[0m, in \u001b[0;36mBox.__getattr__\u001b[1;34m(self, item)\u001b[0m\n\u001b[0;32m    535\u001b[0m \u001b[39mtry\u001b[39;00m:\n\u001b[1;32m--> 536\u001b[0m     value \u001b[39m=\u001b[39m \u001b[39mself\u001b[39m\u001b[39m.\u001b[39m\u001b[39m__getitem__\u001b[39m(item, _ignore_default\u001b[39m=\u001b[39m\u001b[39mTrue\u001b[39;00m)\n\u001b[0;32m    537\u001b[0m \u001b[39mexcept\u001b[39;00m \u001b[39mKeyError\u001b[39;00m:\n",
      "File \u001b[1;32mc:\\Users\\ACER\\anaconda3\\envs\\venv\\Lib\\site-packages\\box\\box.py:524\u001b[0m, in \u001b[0;36mBox.__getitem__\u001b[1;34m(self, item, _ignore_default)\u001b[0m\n\u001b[0;32m    523\u001b[0m         \u001b[39mreturn\u001b[39;00m \u001b[39mself\u001b[39m\u001b[39m.\u001b[39m__get_default(item)\n\u001b[1;32m--> 524\u001b[0m     \u001b[39mraise\u001b[39;00m BoxKeyError(\u001b[39mstr\u001b[39m(err)) \u001b[39mfrom\u001b[39;00m \u001b[39m_exception_cause\u001b[39;00m(err)\n\u001b[0;32m    525\u001b[0m \u001b[39mexcept\u001b[39;00m \u001b[39mTypeError\u001b[39;00m \u001b[39mas\u001b[39;00m err:\n",
      "\u001b[1;31mBoxKeyError\u001b[0m: \"'base_model_path'\"",
      "\nDuring handling of the above exception, another exception occurred:\n",
      "\u001b[1;31mAttributeError\u001b[0m                            Traceback (most recent call last)",
      "File \u001b[1;32mc:\\Users\\ACER\\anaconda3\\envs\\venv\\Lib\\site-packages\\box\\box.py:538\u001b[0m, in \u001b[0;36mBox.__getattr__\u001b[1;34m(self, item)\u001b[0m\n\u001b[0;32m    537\u001b[0m     \u001b[39mexcept\u001b[39;00m \u001b[39mKeyError\u001b[39;00m:\n\u001b[1;32m--> 538\u001b[0m         value \u001b[39m=\u001b[39m \u001b[39mobject\u001b[39m\u001b[39m.\u001b[39m\u001b[39m__getattribute__\u001b[39m(\u001b[39mself\u001b[39m, item)\n\u001b[0;32m    539\u001b[0m \u001b[39mexcept\u001b[39;00m \u001b[39mAttributeError\u001b[39;00m \u001b[39mas\u001b[39;00m err:\n",
      "\u001b[1;31mAttributeError\u001b[0m: 'ConfigBox' object has no attribute 'base_model_path'",
      "\nThe above exception was the direct cause of the following exception:\n",
      "\u001b[1;31mBoxKeyError\u001b[0m                               Traceback (most recent call last)",
      "\u001b[1;32mc:\\ML Projects\\Facial_Emotion_Recognition_End2End\\research\\prepare_base_model.ipynb Cell 10\u001b[0m line \u001b[0;36m9\n\u001b[0;32m      <a href='vscode-notebook-cell:/c%3A/ML%20Projects/Facial_Emotion_Recognition_End2End/research/prepare_base_model.ipynb#X12sZmlsZQ%3D%3D?line=5'>6</a>\u001b[0m     model\u001b[39m.\u001b[39mupdated_base_model()\n\u001b[0;32m      <a href='vscode-notebook-cell:/c%3A/ML%20Projects/Facial_Emotion_Recognition_End2End/research/prepare_base_model.ipynb#X12sZmlsZQ%3D%3D?line=7'>8</a>\u001b[0m \u001b[39mexcept\u001b[39;00m \u001b[39mException\u001b[39;00m \u001b[39mas\u001b[39;00m e:\n\u001b[1;32m----> <a href='vscode-notebook-cell:/c%3A/ML%20Projects/Facial_Emotion_Recognition_End2End/research/prepare_base_model.ipynb#X12sZmlsZQ%3D%3D?line=8'>9</a>\u001b[0m     \u001b[39mraise\u001b[39;00m e\n",
      "\u001b[1;32mc:\\ML Projects\\Facial_Emotion_Recognition_End2End\\research\\prepare_base_model.ipynb Cell 10\u001b[0m line \u001b[0;36m3\n\u001b[0;32m      <a href='vscode-notebook-cell:/c%3A/ML%20Projects/Facial_Emotion_Recognition_End2End/research/prepare_base_model.ipynb#X12sZmlsZQ%3D%3D?line=0'>1</a>\u001b[0m \u001b[39mtry\u001b[39;00m:\n\u001b[0;32m      <a href='vscode-notebook-cell:/c%3A/ML%20Projects/Facial_Emotion_Recognition_End2End/research/prepare_base_model.ipynb#X12sZmlsZQ%3D%3D?line=1'>2</a>\u001b[0m     config\u001b[39m=\u001b[39mConfigurationManager()\n\u001b[1;32m----> <a href='vscode-notebook-cell:/c%3A/ML%20Projects/Facial_Emotion_Recognition_End2End/research/prepare_base_model.ipynb#X12sZmlsZQ%3D%3D?line=2'>3</a>\u001b[0m     model_prepare\u001b[39m=\u001b[39mconfig\u001b[39m.\u001b[39mget_prepare_base_model_config()\n\u001b[0;32m      <a href='vscode-notebook-cell:/c%3A/ML%20Projects/Facial_Emotion_Recognition_End2End/research/prepare_base_model.ipynb#X12sZmlsZQ%3D%3D?line=3'>4</a>\u001b[0m     model\u001b[39m=\u001b[39mPrepareBaseModel(model_prepare)\n\u001b[0;32m      <a href='vscode-notebook-cell:/c%3A/ML%20Projects/Facial_Emotion_Recognition_End2End/research/prepare_base_model.ipynb#X12sZmlsZQ%3D%3D?line=4'>5</a>\u001b[0m     model\u001b[39m.\u001b[39mget_base_model()\n",
      "\u001b[1;32mc:\\ML Projects\\Facial_Emotion_Recognition_End2End\\research\\prepare_base_model.ipynb Cell 10\u001b[0m line \u001b[0;36m2\n\u001b[0;32m     <a href='vscode-notebook-cell:/c%3A/ML%20Projects/Facial_Emotion_Recognition_End2End/research/prepare_base_model.ipynb#X12sZmlsZQ%3D%3D?line=15'>16</a>\u001b[0m config\u001b[39m=\u001b[39m\u001b[39mself\u001b[39m\u001b[39m.\u001b[39mconfig\u001b[39m.\u001b[39mprepare_base_model\n\u001b[0;32m     <a href='vscode-notebook-cell:/c%3A/ML%20Projects/Facial_Emotion_Recognition_End2End/research/prepare_base_model.ipynb#X12sZmlsZQ%3D%3D?line=17'>18</a>\u001b[0m create_directories(config\u001b[39m.\u001b[39mroot_dir)\n\u001b[0;32m     <a href='vscode-notebook-cell:/c%3A/ML%20Projects/Facial_Emotion_Recognition_End2End/research/prepare_base_model.ipynb#X12sZmlsZQ%3D%3D?line=19'>20</a>\u001b[0m prepare_base_model_config\u001b[39m=\u001b[39m PrepareBaseModel_Arguments(\n\u001b[1;32m---> <a href='vscode-notebook-cell:/c%3A/ML%20Projects/Facial_Emotion_Recognition_End2End/research/prepare_base_model.ipynb#X12sZmlsZQ%3D%3D?line=20'>21</a>\u001b[0m      base_model_path\u001b[39m=\u001b[39mPath(config\u001b[39m.\u001b[39mbase_model_path),\n\u001b[0;32m     <a href='vscode-notebook-cell:/c%3A/ML%20Projects/Facial_Emotion_Recognition_End2End/research/prepare_base_model.ipynb#X12sZmlsZQ%3D%3D?line=21'>22</a>\u001b[0m      root_dir\u001b[39m=\u001b[39mconfig\u001b[39m.\u001b[39mroot_dir,\n\u001b[0;32m     <a href='vscode-notebook-cell:/c%3A/ML%20Projects/Facial_Emotion_Recognition_End2End/research/prepare_base_model.ipynb#X12sZmlsZQ%3D%3D?line=22'>23</a>\u001b[0m      updated_base_model_path\u001b[39m=\u001b[39mPath(config\u001b[39m.\u001b[39mupdated_base_model_path),\n\u001b[0;32m     <a href='vscode-notebook-cell:/c%3A/ML%20Projects/Facial_Emotion_Recognition_End2End/research/prepare_base_model.ipynb#X12sZmlsZQ%3D%3D?line=23'>24</a>\u001b[0m      params_classes\u001b[39m=\u001b[39m\u001b[39mself\u001b[39m\u001b[39m.\u001b[39mparams\u001b[39m.\u001b[39mCLASSES,\n\u001b[0;32m     <a href='vscode-notebook-cell:/c%3A/ML%20Projects/Facial_Emotion_Recognition_End2End/research/prepare_base_model.ipynb#X12sZmlsZQ%3D%3D?line=24'>25</a>\u001b[0m      params_image_size\u001b[39m=\u001b[39m\u001b[39mself\u001b[39m\u001b[39m.\u001b[39mparams\u001b[39m.\u001b[39mIAMAGE_SIZE,\n\u001b[0;32m     <a href='vscode-notebook-cell:/c%3A/ML%20Projects/Facial_Emotion_Recognition_End2End/research/prepare_base_model.ipynb#X12sZmlsZQ%3D%3D?line=25'>26</a>\u001b[0m      params_include_top\u001b[39m=\u001b[39m\u001b[39mself\u001b[39m\u001b[39m.\u001b[39mparams\u001b[39m.\u001b[39mINCLUDE_TOP,\n\u001b[0;32m     <a href='vscode-notebook-cell:/c%3A/ML%20Projects/Facial_Emotion_Recognition_End2End/research/prepare_base_model.ipynb#X12sZmlsZQ%3D%3D?line=26'>27</a>\u001b[0m      params_weights\u001b[39m=\u001b[39m\u001b[39mself\u001b[39m\u001b[39m.\u001b[39mparams\u001b[39m.\u001b[39mWEIGHTS,\n\u001b[0;32m     <a href='vscode-notebook-cell:/c%3A/ML%20Projects/Facial_Emotion_Recognition_End2End/research/prepare_base_model.ipynb#X12sZmlsZQ%3D%3D?line=27'>28</a>\u001b[0m      params_learning_rate\u001b[39m=\u001b[39m\u001b[39mself\u001b[39m\u001b[39m.\u001b[39mparams\u001b[39m.\u001b[39mLEARNING_RATE\n\u001b[0;32m     <a href='vscode-notebook-cell:/c%3A/ML%20Projects/Facial_Emotion_Recognition_End2End/research/prepare_base_model.ipynb#X12sZmlsZQ%3D%3D?line=28'>29</a>\u001b[0m                                             )      \n\u001b[0;32m     <a href='vscode-notebook-cell:/c%3A/ML%20Projects/Facial_Emotion_Recognition_End2End/research/prepare_base_model.ipynb#X12sZmlsZQ%3D%3D?line=30'>31</a>\u001b[0m \u001b[39mreturn\u001b[39;00m prepare_base_model_config\n",
      "File \u001b[1;32mc:\\Users\\ACER\\anaconda3\\envs\\venv\\Lib\\site-packages\\box\\config_box.py:30\u001b[0m, in \u001b[0;36mConfigBox.__getattr__\u001b[1;34m(self, item)\u001b[0m\n\u001b[0;32m     28\u001b[0m     \u001b[39mreturn\u001b[39;00m \u001b[39msuper\u001b[39m()\u001b[39m.\u001b[39m\u001b[39m__getattr__\u001b[39m(item)\n\u001b[0;32m     29\u001b[0m \u001b[39mexcept\u001b[39;00m \u001b[39mAttributeError\u001b[39;00m:\n\u001b[1;32m---> 30\u001b[0m     \u001b[39mreturn\u001b[39;00m \u001b[39msuper\u001b[39m()\u001b[39m.\u001b[39m\u001b[39m__getattr__\u001b[39m(item\u001b[39m.\u001b[39mlower())\n",
      "File \u001b[1;32mc:\\Users\\ACER\\anaconda3\\envs\\venv\\Lib\\site-packages\\box\\box.py:552\u001b[0m, in \u001b[0;36mBox.__getattr__\u001b[1;34m(self, item)\u001b[0m\n\u001b[0;32m    550\u001b[0m             \u001b[39mraise\u001b[39;00m BoxKeyError(\u001b[39mf\u001b[39m\u001b[39m\"\u001b[39m\u001b[39m{\u001b[39;00mitem\u001b[39m}\u001b[39;00m\u001b[39m: Does not exist and internal methods are never defaulted\u001b[39m\u001b[39m\"\u001b[39m)\n\u001b[0;32m    551\u001b[0m         \u001b[39mreturn\u001b[39;00m \u001b[39mself\u001b[39m\u001b[39m.\u001b[39m__get_default(item, attr\u001b[39m=\u001b[39m\u001b[39mTrue\u001b[39;00m)\n\u001b[1;32m--> 552\u001b[0m     \u001b[39mraise\u001b[39;00m BoxKeyError(\u001b[39mstr\u001b[39m(err)) \u001b[39mfrom\u001b[39;00m \u001b[39m_exception_cause\u001b[39;00m(err)\n\u001b[0;32m    553\u001b[0m \u001b[39mreturn\u001b[39;00m value\n",
      "\u001b[1;31mBoxKeyError\u001b[0m: \"'ConfigBox' object has no attribute 'base_model_path'\""
     ]
    }
   ],
   "source": [
    "try:\n",
    "    config=ConfigurationManager()\n",
    "    model_prepare=config.get_prepare_base_model_config()\n",
    "    model=PrepareBaseModel(model_prepare)\n",
    "    model.get_base_model()\n",
    "    model.updated_base_model()\n",
    "\n",
    "except Exception as e:\n",
    "    raise e"
   ]
  },
  {
   "cell_type": "code",
   "execution_count": null,
   "metadata": {},
   "outputs": [],
   "source": []
  }
 ],
 "metadata": {
  "kernelspec": {
   "display_name": "venv",
   "language": "python",
   "name": "python3"
  },
  "language_info": {
   "codemirror_mode": {
    "name": "ipython",
    "version": 3
   },
   "file_extension": ".py",
   "mimetype": "text/x-python",
   "name": "python",
   "nbconvert_exporter": "python",
   "pygments_lexer": "ipython3",
   "version": "3.11.5"
  }
 },
 "nbformat": 4,
 "nbformat_minor": 2
}
