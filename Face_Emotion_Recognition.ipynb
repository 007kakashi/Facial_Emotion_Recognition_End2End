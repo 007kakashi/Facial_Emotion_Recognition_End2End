{
 "cells": [
  {
   "cell_type": "code",
   "execution_count": 1,
   "id": "37c29aed",
   "metadata": {},
   "outputs": [],
   "source": [
    "import pandas as pd\n",
    "import numpy as np\n",
    "from tensorflow.keras.layers import Convolution2D,MaxPooling2D,Dense,Flatten,LSTM\n",
    "from tensorflow.keras.models import Sequential,Model\n",
    "from tensorflow.keras.preprocessing.image import load_img,img_to_array,array_to_img,ImageDataGenerator\n",
    "# from tensorflow.keras.constraints "
   ]
  },
  {
   "cell_type": "code",
   "execution_count": null,
   "id": "a42c7fcb",
   "metadata": {},
   "outputs": [],
   "source": [
    "data="
   ]
  }
 ],
 "metadata": {
  "kernelspec": {
   "display_name": "Python 3 (ipykernel)",
   "language": "python",
   "name": "python3"
  },
  "language_info": {
   "codemirror_mode": {
    "name": "ipython",
    "version": 3
   },
   "file_extension": ".py",
   "mimetype": "text/x-python",
   "name": "python",
   "nbconvert_exporter": "python",
   "pygments_lexer": "ipython3",
   "version": "3.11.5"
  }
 },
 "nbformat": 4,
 "nbformat_minor": 5
}
